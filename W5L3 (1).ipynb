{
 "cells": [
  {
   "cell_type": "markdown",
   "metadata": {},
   "source": [
    "# Lab | Intro to Probability"
   ]
  },
  {
   "cell_type": "markdown",
   "metadata": {},
   "source": [
    "**Objective**\n",
    "\n",
    "Welcome to this Intro to Probability lab, where we explore decision-making scenarios through the lens of probability and strategic analysis. In the business world, making informed decisions is crucial, especially when faced with uncertainties. This lab focuses on scenarios where probabilistic outcomes play a significant role in shaping strategies and outcomes. Students will engage in exercises that require assessing and choosing optimal paths based on data-driven insights. The goal is to enhance your skills by applying probability concepts to solve real-world problems."
   ]
  },
  {
   "cell_type": "markdown",
   "metadata": {},
   "source": [
    "**Challenge 1**"
   ]
  },
  {
   "cell_type": "markdown",
   "metadata": {},
   "source": [
    "#### Ironhack Airlines \n",
    "\n",
    "Often Airlines sell more tickets than they have seats available, this is called overbooking. Consider the following:\n",
    "- A plane has 450 seats. \n",
    "- Based on historical data we conclude that each individual passenger has a 3% chance of missing it's flight. \n",
    "\n",
    "If the Ironhack Airlines routinely sells 460 tickets, what is the chance that they have a seats for all passenger?"
   ]
  },
  {
   "cell_type": "code",
   "execution_count": 1,
   "metadata": {},
   "outputs": [
    {
     "name": "stdout",
     "output_type": "stream",
     "text": [
      "The probability that there will be seats for all passengers is approximately 0.8845\n"
     ]
    }
   ],
   "source": [
    "from scipy.stats import binom\n",
    "\n",
    "# Probability of showing up (1 - probability of missing)\n",
    "p_show = 0.97\n",
    "\n",
    "# Total number of tickets sold\n",
    "n_tickets = 460\n",
    "\n",
    "# Calculate the probability of 450 or fewer showing up\n",
    "probability = binom.cdf(450, n_tickets, p_show)\n",
    "\n",
    "print(f\"The probability that there will be seats for all passengers is approximately {probability:.4f}\")"
   ]
  },
  {
   "cell_type": "markdown",
   "metadata": {},
   "source": [
    "**Challenge 2**"
   ]
  },
  {
   "cell_type": "markdown",
   "metadata": {},
   "source": [
    "#### Ironhack Call Center "
   ]
  },
  {
   "cell_type": "markdown",
   "metadata": {},
   "source": [
    "Suppose a customer service representative at a call center is handling customer complaints. Consider the following:\n",
    "- The probability of successfully resolving a customer complaint on the first attempt is 0.3. \n",
    "\n",
    "\n",
    "What is the probability that the representative needs to make at least three attempts before successfully resolving a customer complaint?"
   ]
  },
  {
   "cell_type": "code",
   "execution_count": 3,
   "metadata": {},
   "outputs": [
    {
     "name": "stdout",
     "output_type": "stream",
     "text": [
      "The probability of needing at least three attempts is 0.49\n"
     ]
    }
   ],
   "source": [
    "p = 0.3  # Probability of success\n",
    "q = 1 - p  # Probability of failure\n",
    "\n",
    "# Probability that the first success happens on or after the 3rd attempt\n",
    "prob_at_least_3 = 1 - (p + q * p)\n",
    "\n",
    "print(f\"The probability of needing at least three attempts is {prob_at_least_3:.2f}\")"
   ]
  },
  {
   "cell_type": "markdown",
   "metadata": {},
   "source": [
    "**Challenge 3**"
   ]
  },
  {
   "cell_type": "markdown",
   "metadata": {},
   "source": [
    "#### Ironhack Website"
   ]
  },
  {
   "cell_type": "markdown",
   "metadata": {},
   "source": [
    "Consider a scenario related to Ironhack website traffic. Where:\n",
    "- our website takes on average 500 visits per hour.\n",
    "- the website's server is designed to handle up to 550 vists per hour.\n",
    "\n",
    "\n",
    "What is the probability of the website server being overwhelmed?"
   ]
  },
  {
   "cell_type": "code",
   "execution_count": 5,
   "metadata": {},
   "outputs": [
    {
     "name": "stdout",
     "output_type": "stream",
     "text": [
      "The probability of the website server being overwhelmed is approximately 0.0129\n"
     ]
    }
   ],
   "source": [
    "import scipy.stats as stats\n",
    "\n",
    "# Mean number of visits per hour\n",
    "lambda_visits = 500\n",
    "\n",
    "# Calculate probability of 550 or fewer visits\n",
    "prob_up_to_550 = stats.poisson.cdf(550, lambda_visits)\n",
    "\n",
    "# Probability of more than 550 visits\n",
    "prob_overwhelmed = 1 - prob_up_to_550\n",
    "\n",
    "print(f\"The probability of the website server being overwhelmed is approximately {prob_overwhelmed:.4f}\")"
   ]
  },
  {
   "cell_type": "markdown",
   "metadata": {},
   "source": [
    "What is the probability of being overwhelmed at some point during a day? (consider 24hours)"
   ]
  },
  {
   "cell_type": "code",
   "execution_count": 7,
   "metadata": {},
   "outputs": [
    {
     "name": "stdout",
     "output_type": "stream",
     "text": [
      "The probability of the server being overwhelmed at least once during a 24-hour day is approximately 0.3751\n"
     ]
    }
   ],
   "source": [
    "# Assume previously calculated probability of being overwhelmed in one hour is available\n",
    "prob_single_hour_overwhelmed = 0.0194  # Substitute with actual value from previous calculation\n",
    "\n",
    "# Complement of that is not being overwhelmed in a single hour\n",
    "prob_single_hour_not_overwhelmed = 1 - prob_single_hour_overwhelmed\n",
    "\n",
    "# Probability of not being overwhelmed for 24 consecutive hours\n",
    "prob_24_hours_not_overwhelmed = prob_single_hour_not_overwhelmed ** 24\n",
    "\n",
    "# Probability of being overwhelmed at least once in those 24 hours\n",
    "prob_overwhelmed_at_least_once = 1 - prob_24_hours_not_overwhelmed\n",
    "\n",
    "print(f\"The probability of the server being overwhelmed at least once during a 24-hour day is approximately {prob_overwhelmed_at_least_once:.4f}\")"
   ]
  },
  {
   "cell_type": "markdown",
   "metadata": {},
   "source": [
    "**Challenge 4**"
   ]
  },
  {
   "cell_type": "markdown",
   "metadata": {},
   "source": [
    "#### Ironhack Helpdesk"
   ]
  },
  {
   "cell_type": "markdown",
   "metadata": {},
   "source": [
    "Consider a scenario related to the time between arrivals of customers at a service desk.\n",
    "\n",
    "On average, a customers arrives every 10minutes.\n",
    "\n",
    "What is the probability that the next customer will arrive within the next 5 minutes?"
   ]
  },
  {
   "cell_type": "code",
   "execution_count": 9,
   "metadata": {},
   "outputs": [
    {
     "name": "stdout",
     "output_type": "stream",
     "text": [
      "The probability that the next customer arrives within the next 5 minutes is approximately 0.3935\n"
     ]
    }
   ],
   "source": [
    "import math\n",
    "\n",
    "# Parameters\n",
    "lambda_rate = 1/10  # average rate of arrivals in customers per minute\n",
    "t = 5  # time in minutes\n",
    "\n",
    "# Calculate the probability using the exponential CDF\n",
    "prob_within_5_minutes = 1 - math.exp(-lambda_rate * t)\n",
    "\n",
    "print(f\"The probability that the next customer arrives within the next 5 minutes is approximately {prob_within_5_minutes:.4f}\")"
   ]
  },
  {
   "cell_type": "markdown",
   "metadata": {},
   "source": [
    "If there is no customer for 15minutes, employees can that a 5minutes break.\n",
    "\n",
    "What is the probability an employee taking a break?"
   ]
  },
  {
   "cell_type": "code",
   "execution_count": 11,
   "metadata": {},
   "outputs": [
    {
     "name": "stdout",
     "output_type": "stream",
     "text": [
      "The probability that an employee can take a 5-minute break (no customers for 15 minutes) is approximately 0.2231\n"
     ]
    }
   ],
   "source": [
    "import math\n",
    "\n",
    "# Parameters\n",
    "lambda_rate = 1/10  # average rate of arrivals in customers per minute\n",
    "t_break = 15  # time in minutes\n",
    "\n",
    "# Calculate the probability of no customers within 15 minutes\n",
    "prob_no_arrival_15 = math.exp(-lambda_rate * t_break)\n",
    "\n",
    "print(f\"The probability that an employee can take a 5-minute break (no customers for 15 minutes) is approximately {prob_no_arrival_15:.4f}\")"
   ]
  },
  {
   "cell_type": "markdown",
   "metadata": {},
   "source": [
    "**Challenge 5**"
   ]
  },
  {
   "cell_type": "markdown",
   "metadata": {},
   "source": [
    "The weights of a certain species of birds follow a normal distribution with a mean weight of 150 grams and a standard deviation of 10 grams. \n",
    "\n",
    "- If we randomly select a bird, what is the probability that its weight is between 140 and 160 grams?"
   ]
  },
  {
   "cell_type": "code",
   "execution_count": 14,
   "metadata": {},
   "outputs": [
    {
     "name": "stdout",
     "output_type": "stream",
     "text": [
      "The probability that a bird weighs between 140 and 160 grams is approximately 0.6827\n"
     ]
    }
   ],
   "source": [
    "import scipy.stats as stats\n",
    "\n",
    "# Mean and standard deviation\n",
    "mu = 150\n",
    "sigma = 10\n",
    "\n",
    "# Calculate the probabilities\n",
    "probability_140 = stats.norm.cdf(140, mu, sigma)\n",
    "probability_160 = stats.norm.cdf(160, mu, sigma)\n",
    "\n",
    "# Probability that the bird's weight is between 140 and 160 grams\n",
    "probability = probability_160 - probability_140\n",
    "\n",
    "print(f\"The probability that a bird weighs between 140 and 160 grams is approximately {probability:.4f}\")"
   ]
  },
  {
   "cell_type": "markdown",
   "metadata": {},
   "source": [
    "**Challenge 6**"
   ]
  },
  {
   "cell_type": "markdown",
   "metadata": {},
   "source": [
    "If the lifetime (in hours) of a certain electronic component follows an exponential distribution with a mean lifetime of 50 hours, what is the probability that the component fails within the first 30 hours?"
   ]
  },
  {
   "cell_type": "code",
   "execution_count": 16,
   "metadata": {},
   "outputs": [
    {
     "name": "stdout",
     "output_type": "stream",
     "text": [
      "The probability that the component fails within the first 30 hours is approximately 0.4512\n"
     ]
    }
   ],
   "source": [
    "import math\n",
    "\n",
    "# Given values\n",
    "mean_lifetime = 50\n",
    "lambda_rate = 1 / mean_lifetime\n",
    "t = 30\n",
    "\n",
    "# Calculate the probability using the exponential CDF\n",
    "probability_failure_30 = 1 - math.exp(-lambda_rate * t)\n",
    "\n",
    "print(f\"The probability that the component fails within the first 30 hours is approximately {probability_failure_30:.4f}\")"
   ]
  }
 ],
 "metadata": {
  "kernelspec": {
   "display_name": "Python 3 (ipykernel)",
   "language": "python",
   "name": "python3"
  },
  "language_info": {
   "codemirror_mode": {
    "name": "ipython",
    "version": 3
   },
   "file_extension": ".py",
   "mimetype": "text/x-python",
   "name": "python",
   "nbconvert_exporter": "python",
   "pygments_lexer": "ipython3",
   "version": "3.12.7"
  }
 },
 "nbformat": 4,
 "nbformat_minor": 4
}
